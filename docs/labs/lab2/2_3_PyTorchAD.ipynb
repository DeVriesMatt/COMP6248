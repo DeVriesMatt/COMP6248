{
 "cells": [
  {
   "cell_type": "markdown",
   "metadata": {
    "deletable": false,
    "editable": false,
    "nbgrader": {
     "checksum": "97d3c80864403311b3342877098cef5b",
     "grade": false,
     "grade_id": "cell-f38ec230aeb63f9d",
     "locked": true,
     "schema_version": 1,
     "solution": false
    }
   },
   "source": [
    "# Part 3: Reverse Mode Automatic Differentiation with PyTorch"
   ]
  },
  {
   "cell_type": "code",
   "execution_count": null,
   "metadata": {
    "deletable": false,
    "editable": false,
    "nbgrader": {
     "checksum": "529f94d77025a0b9b2a4aa44ed0b1f1b",
     "grade": false,
     "grade_id": "cell-2afa7eb0f5479ff9",
     "locked": true,
     "schema_version": 1,
     "solution": false
    }
   },
   "outputs": [],
   "source": [
    "# Execute this code block to install dependencies when running on colab\n",
    "try:\n",
    "    import torch\n",
    "except:\n",
    "    from os.path import exists\n",
    "    from wheel.pep425tags import get_abbr_impl, get_impl_ver, get_abi_tag\n",
    "    platform = '{}{}-{}'.format(get_abbr_impl(), get_impl_ver(), get_abi_tag())\n",
    "    cuda_output = !ldconfig -p|grep cudart.so|sed -e 's/.*\\.\\([0-9]*\\)\\.\\([0-9]*\\)$/cu\\1\\2/'\n",
    "    accelerator = cuda_output[0] if exists('/dev/nvidia0') else 'cpu'\n",
    "\n",
    "    !pip install -q http://download.pytorch.org/whl/{accelerator}/torch-1.0.0-{platform}-linux_x86_64.whl torchvision"
   ]
  },
  {
   "cell_type": "markdown",
   "metadata": {
    "deletable": false,
    "editable": false,
    "nbgrader": {
     "checksum": "8c13a801a6e49369b91bda4e906cb1cf",
     "grade": false,
     "grade_id": "cell-3d5d3b3ff9e2ac9f",
     "locked": true,
     "schema_version": 1,
     "solution": false
    }
   },
   "source": [
    "PyTorch implements Dynamic Reverse Mode Automatic Differentiation, much like we did in the previous exercise. There is one really major difference in what PyTorch provides over our simple example: it works directly with matrices (`Tensor`s) rather than with scalars (although obviously a matrix can represent a scalar).\n",
    "\n",
    "In this tutorial, we'll explore PyTorch's AD implementation. Note that we're using the API of PyTorch 0.4 or later which simplifies use of AD (previous versions required wrapping all `Tensor`s that you wanted to compute gradients of in `Variable` objects; PyTorch 0.4 removes the need to do this and allows `Tensor`s themselves to track gradients).\n",
    "\n",
    "We'll start with the simple example we tried earlier in the code block below:\n",
    "\n",
    "__Task:__ Run the following code and verify the solution is correct"
   ]
  },
  {
   "cell_type": "code",
   "execution_count": null,
   "metadata": {
    "deletable": false,
    "editable": false,
    "nbgrader": {
     "checksum": "0d5aa67ad79542449beb79e8b65a50bc",
     "grade": false,
     "grade_id": "cell-a7740c83bfcaa983",
     "locked": true,
     "schema_version": 1,
     "solution": false
    }
   },
   "outputs": [],
   "source": [
    "import torch\n",
    "\n",
    "# set up the problem\n",
    "x = torch.tensor(0.5, requires_grad=True)\n",
    "y = torch.tensor(4.2, requires_grad=True)\n",
    "z = x * y + torch.sin(x)\n",
    "\n",
    "print(\"z = \" + str(z.item()))\n",
    "\n",
    "z.backward() # this goes through the computation graph and accumulates the gradients in the cached .grad attributes\n",
    "print(\"dz/dx = \" + str(x.grad.item()))\n",
    "print(\"dz/dy = \" + str(y.grad.item()))"
   ]
  },
  {
   "cell_type": "markdown",
   "metadata": {
    "deletable": false,
    "editable": false,
    "nbgrader": {
     "checksum": "db156e5f57d3708d3b81209a7e7e2fa3",
     "grade": false,
     "grade_id": "cell-cb3a2586467dd0ad",
     "locked": true,
     "schema_version": 1,
     "solution": false
    }
   },
   "source": [
    "As with our own AD implementation, PyTorch lets us differentiate through an algorithm.\n",
    "\n",
    "__Task__: Use the block below to co}mpute the gradient $\\partial z/\\partial x$ of the following pseudocode algorithm:\n",
    "\n",
    "    x = 0.5\n",
    "    z = 1\n",
    "    i = 0\n",
    "    while i<2:\n",
    "        z = (z + i) * x * x\n",
    "        i = i + 1"
   ]
  },
  {
   "cell_type": "code",
   "execution_count": null,
   "metadata": {
    "deletable": false,
    "nbgrader": {
     "checksum": "f32f265771ccb248bd76603587394aa0",
     "grade": false,
     "grade_id": "cell-62e1f0838236eddf",
     "locked": false,
     "schema_version": 1,
     "solution": true
    }
   },
   "outputs": [],
   "source": [
    "# YOUR CODE HERE\n",
    "raise NotImplementedError()"
   ]
  },
  {
   "cell_type": "markdown",
   "metadata": {
    "deletable": false,
    "editable": false,
    "nbgrader": {
     "checksum": "d999d1c4c84b066fb15be1972dcaaad8",
     "grade": false,
     "grade_id": "cell-824ecf46b4875b5f",
     "locked": true,
     "schema_version": 1,
     "solution": false
    }
   },
   "source": [
    "## PyTorch limitations: in-place operations and aliasing\n",
    "\n",
    "PyTorch will throw an error at runtime if you try to differentiate through an in-place operation on a tensor. \n",
    "\n",
    "__Task__: Run the following code to see this in action."
   ]
  },
  {
   "cell_type": "code",
   "execution_count": null,
   "metadata": {
    "deletable": false,
    "editable": false,
    "nbgrader": {
     "checksum": "eb07b791962399cd736ede26b99309e8",
     "grade": false,
     "grade_id": "cell-813341e9825354bf",
     "locked": true,
     "schema_version": 1,
     "solution": false
    }
   },
   "outputs": [],
   "source": [
    "x = torch.tensor(1.0, requires_grad=True)\n",
    "y = x.tanh()\n",
    "y.add_(3) # inplace addition\n",
    "y.backward()"
   ]
  },
  {
   "cell_type": "markdown",
   "metadata": {
    "deletable": false,
    "editable": false,
    "nbgrader": {
     "checksum": "bfd84ec33f62c537a0ea6ea4f87291de",
     "grade": false,
     "grade_id": "cell-b9986c88256e8468",
     "locked": true,
     "schema_version": 1,
     "solution": false
    }
   },
   "source": [
    "Aliasing is also something that can't be differentiated through and will result in a slightly more cryptic error.\n",
    "\n",
    "__Task__: Run the following code to see this in action. If you don't understand what this code does add some `print` statements to show the values of `x` and `y` at various points."
   ]
  },
  {
   "cell_type": "code",
   "execution_count": null,
   "metadata": {},
   "outputs": [],
   "source": [
    "x = torch.tensor([1, 2, 3, 4], requires_grad=True)\n",
    "y = x[:1]\n",
    "y.add_(3)\n",
    "y.backward()"
   ]
  },
  {
   "cell_type": "markdown",
   "metadata": {
    "deletable": false,
    "editable": false,
    "nbgrader": {
     "checksum": "a876cfba7ba5fd1027b4e7eebddcc2d7",
     "grade": false,
     "grade_id": "cell-76e1b1d7cbc02388",
     "locked": true,
     "schema_version": 1,
     "solution": false
    }
   },
   "source": [
    "## Dealing with multiple outputs\n",
    "\n",
    "PyTorch can deal with the case where there are multiple output variables if we can formulate the expression in terms of tensor operations. Consider the example from the presentation for example:\n",
    "\n",
    "$$\\begin{cases}\n",
    "     z = 2x + \\sin x\\\\\n",
    "     v = 4x + \\cos x\n",
    "\\end{cases}$$\n",
    "\n",
    "We could formulate this as:\n",
    "\n",
    "$$\n",
    "\\begin{bmatrix}z \\\\ v\\end{bmatrix} = \\begin{bmatrix}2 \\\\ 4\\end{bmatrix} \\odot \\bar{x} + \\begin{bmatrix}1 \\\\ 0\\end{bmatrix} \\odot \\sin\\bar x + \\begin{bmatrix}0 \\\\ 1\\end{bmatrix} \\odot \\cos\\bar x\n",
    "$$\n",
    "\n",
    "where \n",
    "\n",
    "$$\n",
    "\\bar x = \\begin{bmatrix}x \\\\ x\\end{bmatrix}\n",
    "$$\n",
    "\n",
    "and $\\odot$ represents the Hadamard or element-wise product. This is demonstrated using PyTorch in the following code block.\n",
    "\n",
    "__Task:__ run the code below and verify the gradients $\\partial z/\\partial x$ and $\\partial v/\\partial x$ are correct for $x=1$."
   ]
  },
  {
   "cell_type": "code",
   "execution_count": null,
   "metadata": {},
   "outputs": [],
   "source": [
    "x = torch.tensor([[1.0],[1.0]], requires_grad=True)\n",
    "\n",
    "zv = ( torch.tensor([[2.0],[4.0]]) * x +\n",
    "         torch.tensor([[1.0], [0.0]]) * torch.sin(x) +\n",
    "         torch.tensor([[0.0], [1.0]]) * torch.cos(x) )\n",
    "        \n",
    "zv.backward(torch.tensor([[1.0],[1.0]])) # Note as we have \"multiple outputs\" we must pass in a tensor of weights of the correct size\n",
    "\n",
    "print(x.grad)"
   ]
  },
  {
   "cell_type": "markdown",
   "metadata": {},
   "source": [
    "## Gradient descent & gradients with respect to a vector\n",
    "Let's finish by putting everything together and using automatically computed gradients to find the minima of a function by taking steps down the gradient from an initial position. Rather than explicitly creating each input variable as a scalar as in the previous examples, we'll use a vector instead (so our gradients will be with respect to each element of the vector).\n",
    "\n",
    "__Task:__ work through the following example to see how taking gradients with respect to a vector works & how simple gradient descent optimisation can be implemented."
   ]
  },
  {
   "cell_type": "code",
   "execution_count": null,
   "metadata": {},
   "outputs": [],
   "source": [
    "# This is our starting vector\n",
    "initial=[[2.0], [1.0], [10.0]]\n",
    "\n",
    "# This is the function we will optimise (feel free to work out the analytic minima!)\n",
    "def function(x):\n",
    "    return x[0]**2 + x[1]**2 + x[2]**2\n",
    "\n",
    "x = torch.tensor(initial, requires_grad=True, dtype=torch.float)\n",
    "for i in range(0,100):\n",
    "    # manually dispose of the gradient (in reality it would be better to detach and zero it to reuse memory)\n",
    "    x.grad=None\n",
    "    # evaluate the function\n",
    "    J = function(x) \n",
    "    # auto-compute the gradients at the previously evaluated point x\n",
    "    J.backward()\n",
    "    # compute the update (note we can't assign directly here as we would lose track of the x being differentiated!)\n",
    "    z = x - x.grad*0.1 \n",
    "    x.data = z\n",
    "    \n",
    "    if i%10 == 0:\n",
    "        print((x, function(x).item()))\n"
   ]
  }
 ],
 "metadata": {
  "kernelspec": {
   "display_name": "Python 3",
   "language": "python",
   "name": "python3"
  },
  "language_info": {
   "codemirror_mode": {
    "name": "ipython",
    "version": 3
   },
   "file_extension": ".py",
   "mimetype": "text/x-python",
   "name": "python",
   "nbconvert_exporter": "python",
   "pygments_lexer": "ipython3",
   "version": "3.6.7"
  }
 },
 "nbformat": 4,
 "nbformat_minor": 2
}
