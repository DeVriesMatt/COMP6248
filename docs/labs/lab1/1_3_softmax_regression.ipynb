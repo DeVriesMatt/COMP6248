{
 "cells": [
  {
   "cell_type": "markdown",
   "metadata": {
    "deletable": false,
    "editable": false,
    "nbgrader": {
     "checksum": "f77bd760d23bfc42ef05336fd15bd8a9",
     "grade": false,
     "grade_id": "cell-68255202c4a7898d",
     "locked": true,
     "schema_version": 1,
     "solution": false
    }
   },
   "source": [
    "# Part 3: Softmax Regression"
   ]
  },
  {
   "cell_type": "code",
   "execution_count": null,
   "metadata": {
    "deletable": false,
    "editable": false,
    "nbgrader": {
     "checksum": "d3e6cf62296cdce727f7797215c0501b",
     "grade": false,
     "grade_id": "cell-08a6bfb906402a9f",
     "locked": true,
     "schema_version": 1,
     "solution": false
    }
   },
   "outputs": [],
   "source": [
    "# Execute this code block to install dependencies when running on colab\n",
    "try:\n",
    "    import torch\n",
    "except:\n",
    "    from os.path import exists\n",
    "    from wheel.pep425tags import get_abbr_impl, get_impl_ver, get_abi_tag\n",
    "    platform = '{}{}-{}'.format(get_abbr_impl(), get_impl_ver(), get_abi_tag())\n",
    "    cuda_output = !ldconfig -p|grep cudart.so|sed -e 's/.*\\.\\([0-9]*\\)\\.\\([0-9]*\\)$/cu\\1\\2/'\n",
    "    accelerator = cuda_output[0] if exists('/dev/nvidia0') else 'cpu'\n",
    "\n",
    "    !pip install -q http://download.pytorch.org/whl/{accelerator}/torch-1.0.0-{platform}-linux_x86_64.whl torchvision"
   ]
  },
  {
   "cell_type": "code",
   "execution_count": null,
   "metadata": {
    "deletable": false,
    "nbgrader": {
     "checksum": "28e7dcabedcfe10d0a88ae93b1ec4f53",
     "grade": false,
     "grade_id": "cell-1cd9ef4ca5aac607",
     "locked": false,
     "schema_version": 1,
     "solution": true
    }
   },
   "outputs": [],
   "source": [
    "import torch\n",
    "\n",
    "def softmax_regression_loss_grad(Theta, X, y):\n",
    "    # YOUR CODE HERE\n",
    "    raise NotImplementedError()\n",
    "    return grad, loss"
   ]
  },
  {
   "cell_type": "code",
   "execution_count": null,
   "metadata": {},
   "outputs": [],
   "source": [
    "from sklearn.datasets import load_digits\n",
    "\n",
    "X, y = (torch.Tensor(z) for z in load_digits(10, True)) #convert to pytorch Tensors\n",
    "X = torch.cat((X, torch.ones((X.shape[0], 1))), 1) # append a column of 1's to the X's\n",
    "X /= 255\n",
    "y = y.reshape(-1, 1) # reshape y into a column vector\n",
    "y = y.type(torch.LongTensor)\n",
    "\n",
    "# We're also going to break the data into a training set for computing the regression parameters\n",
    "# and a test set to evaluate the predictive ability of those parameters\n",
    "perm = torch.randperm(y.shape[0])\n",
    "X_train = X[perm[0:260], :]\n",
    "y_train = y[perm[0:260]]\n",
    "X_test = X[perm[260:], :]\n",
    "y_test = y[perm[260:]]"
   ]
  },
  {
   "cell_type": "code",
   "execution_count": null,
   "metadata": {},
   "outputs": [],
   "source": [
    "alpha = 0.1\n",
    "theta_gd = torch.rand((X_train.shape[1], 10))\n",
    "\n",
    "for e in range(0, 1000):\n",
    "    gr, l = softmax_regression_loss_grad(theta_gd, X_train, y_train)\n",
    "    theta_gd -= alpha * gr\n",
    "\n",
    "# print(\"Gradient Descent Theta: \", theta_gd.t())\n",
    "# print(\"CE of test data: \", torch.nn.functional.cross_entropy(X_test @ theta_gd, y_test))\n",
    "\n",
    "proba = torch.softmax(X_test @ theta_gd, 1)\n",
    "print(float((proba.argmax(1)-y_test[:,0]==0).sum()) / float(proba.shape[0]))\n",
    "print()\n"
   ]
  },
  {
   "cell_type": "code",
   "execution_count": null,
   "metadata": {},
   "outputs": [],
   "source": []
  },
  {
   "cell_type": "code",
   "execution_count": null,
   "metadata": {},
   "outputs": [],
   "source": []
  }
 ],
 "metadata": {
  "kernelspec": {
   "display_name": "Python 3",
   "language": "python",
   "name": "python3"
  },
  "language_info": {
   "codemirror_mode": {
    "name": "ipython",
    "version": 3
   },
   "file_extension": ".py",
   "mimetype": "text/x-python",
   "name": "python",
   "nbconvert_exporter": "python",
   "pygments_lexer": "ipython3",
   "version": "3.6.7"
  }
 },
 "nbformat": 4,
 "nbformat_minor": 2
}
